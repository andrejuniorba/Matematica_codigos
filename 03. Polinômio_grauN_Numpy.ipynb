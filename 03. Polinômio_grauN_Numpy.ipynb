{
  "nbformat": 4,
  "nbformat_minor": 0,
  "metadata": {
    "colab": {
      "name": "Polinômio_grauN_Numpy.ipynb",
      "provenance": [],
      "authorship_tag": "ABX9TyPSvuBmvLhWb6kUA4l27Kug",
      "include_colab_link": true
    },
    "kernelspec": {
      "name": "python3",
      "display_name": "Python 3"
    },
    "language_info": {
      "name": "python"
    }
  },
  "cells": [
    {
      "cell_type": "markdown",
      "metadata": {
        "id": "view-in-github",
        "colab_type": "text"
      },
      "source": [
        "<a href=\"https://colab.research.google.com/github/andrejuniorba/Matematica_codigos/blob/main/Polin%C3%B4mio_grauN_Numpy.ipynb\" target=\"_parent\"><img src=\"https://colab.research.google.com/assets/colab-badge.svg\" alt=\"Open In Colab\"/></a>"
      ]
    },
    {
      "cell_type": "code",
      "execution_count": 1,
      "metadata": {
        "colab": {
          "base_uri": "https://localhost:8080/"
        },
        "id": "ExVPh6ijA44H",
        "outputId": "d322a46c-9687-4c15-ab23-6e7012667520"
      },
      "outputs": [
        {
          "output_type": "stream",
          "name": "stdout",
          "text": [
            "Digite o grau do polinômio: 4\n",
            "Coeficiente x^4: 1\n",
            "Coeficiente x^3: -2\n",
            "Coeficiente x^2: 3\n",
            "Coeficiente x^1: -4\n",
            "Coeficiente x^0: 0\n",
            "\n",
            "\n",
            "Polinômio de grau 4\n",
            "\n",
            "\n",
            "[1.65062919+0.j         0.1746854 +1.54686889j 0.1746854 -1.54686889j\n",
            " 0.        +0.j        ]\n"
          ]
        }
      ],
      "source": [
        "import numpy as np\n",
        "\n",
        "#Solicita ao usuário o grau do polinômio\n",
        "n = int(input('Digite o grau do polinômio: '))\n",
        "m = n\n",
        "#Solicita os coeficientes e adiciona em uma lista\n",
        "lista_coeficientes = []\n",
        "for i in range(0,n+1):\n",
        "  lista_coeficientes.append(float(input(f'Coeficiente x^{m}: ')))\n",
        "  m = m-1\n",
        "\n",
        "#Identifica o grau do polinômio\n",
        "print('\\n')\n",
        "print(f'Polinômio de grau {n}')\n",
        "print('\\n')\n",
        "\n",
        "#Apresenta as raízes do polinômio\n",
        "print(np.roots(lista_coeficientes))"
      ]
    }
  ]
}