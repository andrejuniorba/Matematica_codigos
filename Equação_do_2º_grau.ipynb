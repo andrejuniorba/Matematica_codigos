{
  "nbformat": 4,
  "nbformat_minor": 0,
  "metadata": {
    "colab": {
      "name": "Equação do 2º grau.ipynb",
      "provenance": [],
      "collapsed_sections": [],
      "authorship_tag": "ABX9TyMQ/Cws0VTSBsTKhM3lkAxe",
      "include_colab_link": true
    },
    "kernelspec": {
      "name": "python3",
      "display_name": "Python 3"
    },
    "language_info": {
      "name": "python"
    }
  },
  "cells": [
    {
      "cell_type": "markdown",
      "metadata": {
        "id": "view-in-github",
        "colab_type": "text"
      },
      "source": [
        "<a href=\"https://colab.research.google.com/github/andrejuniorba/Matematica_codigos/blob/main/Equa%C3%A7%C3%A3o_do_2%C2%BA_grau.ipynb\" target=\"_parent\"><img src=\"https://colab.research.google.com/assets/colab-badge.svg\" alt=\"Open In Colab\"/></a>"
      ]
    },
    {
      "cell_type": "markdown",
      "source": [
        "# **Calculadora de raízes para Equação Quadrática**\n",
        "\n",
        "Entre com os valores dos coeficientes (a, b e c) e determine as raízes da equação.\n",
        "\n",
        "Obs. Em uma equação quadrática, o coeficiente \"a\" deve ser diferente de zero."
      ],
      "metadata": {
        "id": "bFrYUpwauvdh"
      }
    },
    {
      "cell_type": "code",
      "source": [
        "#Função que calcula o valor de delta e das raízes.\n",
        "def raizes (a,b,c):\n",
        "  dta = b**2 - 4 * a * c\n",
        "  print('\\n O valor de delta é %.1f \\n'%dta)\n",
        "  if dta < 0:\n",
        "    print('A equação não possui raízes reais. \\n')\n",
        "  elif dta == 0:\n",
        "    print('A equação possui apenas uma raiz real. \\n')\n",
        "  else:\n",
        "    print('A equação apresenta duas raizes reais. \\n')\n",
        "  \n",
        "  x1 = (-b + math.sqrt(dta)) / (2*a)\n",
        "  x2 = (-b - math.sqrt(dta)) / (2*a)\n",
        "  print('x1 é igual a %.1f'% x1)\n",
        "  print('x2 é igual a %.1f'% x2)\n",
        "\n",
        "\n",
        "   "
      ],
      "metadata": {
        "id": "cDyIooGlw0W9"
      },
      "execution_count": 61,
      "outputs": []
    },
    {
      "cell_type": "code",
      "execution_count": 63,
      "metadata": {
        "colab": {
          "base_uri": "https://localhost:8080/"
        },
        "id": "kLbiMKR5jXva",
        "outputId": "be6377b9-16f5-4e07-d1b6-d00a769317f1"
      },
      "outputs": [
        {
          "output_type": "stream",
          "name": "stdout",
          "text": [
            "Digite o coeficiente a: 5\n",
            "Digite o coeficiente b: -45\n",
            "Digite o coeficiente c: 0\n",
            "\n",
            " O valor de delta é 2025.0 \n",
            "\n",
            "A equação apresenta duas raizes reais. \n",
            "\n",
            "x1 é igual a 9.0\n",
            "x2 é igual a 0.0\n"
          ]
        }
      ],
      "source": [
        "#Calculadora das raízes de uma Equação Quadrática.\n",
        "import math\n",
        "\n",
        "a = float(input('Digite o coeficiente a: '))\n",
        "\n",
        "while a == 0:\n",
        "  print('O coeficiente a tem que ser diferente de zero.')\n",
        "  a = float(input('Digite o coeficiente a: '))\n",
        "  \n",
        "b = float(input('Digite o coeficiente b: '))\n",
        "c = float(input('Digite o coeficiente c: '))\n",
        "\n",
        "raizes(a,b,c)"
      ]
    }
  ]
}