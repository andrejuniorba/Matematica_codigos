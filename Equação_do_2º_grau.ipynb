{
  "nbformat": 4,
  "nbformat_minor": 0,
  "metadata": {
    "colab": {
      "name": "Equação do 2º grau.ipynb",
      "provenance": [],
      "collapsed_sections": [],
      "authorship_tag": "ABX9TyOgyzRdXZZkZYwWJ+/koMHH",
      "include_colab_link": true
    },
    "kernelspec": {
      "name": "python3",
      "display_name": "Python 3"
    },
    "language_info": {
      "name": "python"
    }
  },
  "cells": [
    {
      "cell_type": "markdown",
      "metadata": {
        "id": "view-in-github",
        "colab_type": "text"
      },
      "source": [
        "<a href=\"https://colab.research.google.com/github/andrejuniorba/Matematica_codigos/blob/main/Equa%C3%A7%C3%A3o_do_2%C2%BA_grau.ipynb\" target=\"_parent\"><img src=\"https://colab.research.google.com/assets/colab-badge.svg\" alt=\"Open In Colab\"/></a>"
      ]
    },
    {
      "cell_type": "markdown",
      "source": [
        "# **Calculadora de raízes para Equação Quadrática**\n",
        "\n",
        "Entre com os valores dos coeficientes (a, b e c) e determine as raízes da equação.\n",
        "\n",
        "Obs. Em uma equação quadrática, o coeficiente \"a\" deve ser diferente de zero."
      ],
      "metadata": {
        "id": "bFrYUpwauvdh"
      }
    },
    {
      "cell_type": "code",
      "source": [
        "#Função que calcula o valor de delta e das raízes.\n",
        "\n",
        "def raizes (a,b,c):\n",
        "  dta = (b**2 - 4 * a * c)\n",
        "  x1 = (-b + dta**0.5) / (2*a)\n",
        "  x2 = (-b - dta**0.5) / (2*a)\n",
        "  print('\\n O valor de delta é %.1f \\n'%dta)\n",
        "  if dta < 0:\n",
        "    print('A equação não possui raízes reais. \\n')\n",
        "  elif dta == 0:\n",
        "    print('A equação possui apenas uma raiz real. \\n')\n",
        "  else:\n",
        "    print('A equação apresenta duas raizes reais. \\n')\n",
        "  \n",
        "  print('x1 é igual a {}'.format(x1))\n",
        "  print('x2 é igual a {}'.format(x2))\n",
        "\n",
        "def valor_entrada (entrada):\n",
        "  while entrada == 0 or entrada == '':\n",
        "    print('O coeficiente a tem que ser diferente de zero.')\n",
        "    entrada = (input('Digite o coeficiente a: '))\n",
        "  a = float(entrada)"
      ],
      "metadata": {
        "id": "cDyIooGlw0W9"
      },
      "execution_count": 44,
      "outputs": []
    },
    {
      "cell_type": "code",
      "execution_count": 45,
      "metadata": {
        "colab": {
          "base_uri": "https://localhost:8080/"
        },
        "id": "kLbiMKR5jXva",
        "outputId": "d0800865-a312-499e-bebc-c7c51d799ea7"
      },
      "outputs": [
        {
          "output_type": "stream",
          "name": "stdout",
          "text": [
            "Digite o coeficiente a: \n",
            "O coeficiente a tem que ser diferente de zero.\n",
            "Digite o coeficiente a: \n",
            "O coeficiente a tem que ser diferente de zero.\n",
            "Digite o coeficiente a: 4\n",
            "Digite o coeficiente b: 2\n",
            "Digite o coeficiente c: 3\n",
            "\n",
            " O valor de delta é -44.0 \n",
            "\n",
            "A equação não possui raízes reais. \n",
            "\n",
            "x1 é igual a (-0.24999999999999994+0.82915619758885j)\n",
            "x2 é igual a (-0.25000000000000006-0.82915619758885j)\n"
          ]
        }
      ],
      "source": [
        "#Calculadora das raízes de uma Equação Quadrática.\n",
        "\n",
        "entrada = (input('Digite o coeficiente a: '))\n",
        "valor_entrada(entrada)\n",
        "b = float(input('Digite o coeficiente b: '))\n",
        "c = float(input('Digite o coeficiente c: '))\n",
        "\n",
        "raizes(a,b,c)"
      ]
    }
  ]
}