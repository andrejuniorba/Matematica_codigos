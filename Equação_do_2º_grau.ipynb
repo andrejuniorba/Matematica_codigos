{
  "nbformat": 4,
  "nbformat_minor": 0,
  "metadata": {
    "colab": {
      "name": "Equação do 2º grau.ipynb",
      "provenance": [],
      "collapsed_sections": [],
      "authorship_tag": "ABX9TyN+/PM0nPO2TCPWrWIUaI5/",
      "include_colab_link": true
    },
    "kernelspec": {
      "name": "python3",
      "display_name": "Python 3"
    },
    "language_info": {
      "name": "python"
    }
  },
  "cells": [
    {
      "cell_type": "markdown",
      "metadata": {
        "id": "view-in-github",
        "colab_type": "text"
      },
      "source": [
        "<a href=\"https://colab.research.google.com/github/andrejuniorba/Matematica_codigos/blob/main/Equa%C3%A7%C3%A3o_do_2%C2%BA_grau.ipynb\" target=\"_parent\"><img src=\"https://colab.research.google.com/assets/colab-badge.svg\" alt=\"Open In Colab\"/></a>"
      ]
    },
    {
      "cell_type": "markdown",
      "source": [
        "# **Calculadora de raízes para Equação Quadrática**\n",
        "\n",
        "Entre com os valores dos coeficientes (a, b e c) e determine as raízes da equação.\n",
        "\n",
        "Obs. Em uma equação quadrática, o coeficiente \"a\" deve ser diferente de zero."
      ],
      "metadata": {
        "id": "bFrYUpwauvdh"
      }
    },
    {
      "cell_type": "code",
      "execution_count": 24,
      "metadata": {
        "colab": {
          "base_uri": "https://localhost:8080/"
        },
        "id": "kLbiMKR5jXva",
        "outputId": "67ce14b0-1046-4d01-a1c7-9e48b43d520d"
      },
      "outputs": [
        {
          "output_type": "stream",
          "name": "stdout",
          "text": [
            "Digite o coeficiente a: 3\n",
            "Digite o coeficiente b: 0\n",
            "Digite o coeficiente c: -27\n",
            "\n",
            " O valor de delta é 324.0 \n",
            "\n",
            "A equação apresenta duas raizes reais. \n",
            "\n",
            "x1 é igual a: 3.0\n",
            "x2 é igual a: -3.0\n"
          ]
        }
      ],
      "source": [
        "import math\n",
        "\n",
        "a = float(input('Digite o coeficiente a: '))\n",
        "\n",
        "while a == 0:\n",
        "  print('O coeficiente a tem que ser diferente de zero.')\n",
        "  a = float(input('Digite o coeficiente a: '))\n",
        "  \n",
        "b = float(input('Digite o coeficiente b: '))\n",
        "c = float(input('Digite o coeficiente c: '))\n",
        "\n",
        "delta = b**2 - 4 * a * c\n",
        "\n",
        "print('\\n O valor de delta é %.1f \\n'%delta)\n",
        "\n",
        "if delta < 0:\n",
        "  print('A equação não possui raízes reais. \\n')\n",
        "elif delta == 0:\n",
        "  print('A equação possui apenas uma raiz real. \\n')\n",
        "else:\n",
        "  print('A equação apresenta duas raizes reais. \\n')\n",
        "\n",
        "x1 = (-b + math.sqrt(delta)) / (2*a)\n",
        "x2 = (-b - math.sqrt(delta)) / (2*a)\n",
        "\n",
        "print('x1 é igual a:',x1)\n",
        "print('x2 é igual a:',x2)\n",
        "\n",
        "\n"
      ]
    }
  ]
}