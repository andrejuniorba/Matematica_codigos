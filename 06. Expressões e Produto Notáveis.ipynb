{
 "cells": [
  {
   "cell_type": "markdown",
   "id": "68303d40",
   "metadata": {},
   "source": [
    "# Biblioteca SymPy\n",
    "\n",
    "Biblioteca Python para matemática simbólica. Ele visa tornar-se um sistema de álgebra computacional (CAS) completo, mantendo o código o mais simples possível para ser compreensível e facilmente extensível. SymPy é escrito inteiramente em Python.\n",
    "\n",
    "____"
   ]
  },
  {
   "cell_type": "markdown",
   "id": "a30d7114",
   "metadata": {},
   "source": [
    "## Importar biblioteca"
   ]
  },
  {
   "cell_type": "code",
   "execution_count": 1,
   "id": "04aee97d",
   "metadata": {},
   "outputs": [],
   "source": [
    "import sympy\n",
    "#função init_printing que deixará o resultado em um formato mais elegante\n",
    "from sympy.interactive import init_printing\n",
    "init_printing(pretty_print=True)"
   ]
  },
  {
   "cell_type": "code",
   "execution_count": 14,
   "id": "a886d4e4",
   "metadata": {},
   "outputs": [],
   "source": [
    "# Definir a variável simbólica\n",
    "x = sympy.Symbol('x')\n",
    "y = sympy.Symbol('y')"
   ]
  },
  {
   "cell_type": "markdown",
   "id": "d9e985e7",
   "metadata": {},
   "source": [
    "## Simplificação de expressões"
   ]
  },
  {
   "cell_type": "code",
   "execution_count": 3,
   "id": "1f1dc706",
   "metadata": {},
   "outputs": [],
   "source": [
    "#Expressão\n",
    "expressao = (x**2 - x - 6)/(x**2 - 3*x)"
   ]
  },
  {
   "cell_type": "code",
   "execution_count": 4,
   "id": "1253ad68",
   "metadata": {},
   "outputs": [
    {
     "data": {
      "image/png": "[encoded data removed]",
      "text/latex": [
       "$\\displaystyle \\frac{x + 2}{x}$"
      ],
      "text/plain": [
       "x + 2\n",
       "─────\n",
       "  x  "
      ]
     },
     "execution_count": 4,
     "metadata": {},
     "output_type": "execute_result"
    }
   ],
   "source": [
    "# Resultado\n",
    "resultado = sympy.simplify(expressao)\n",
    "resultado"
   ]
  },
  {
   "cell_type": "markdown",
   "id": "d158cebe",
   "metadata": {},
   "source": [
    "## Expandir expressões"
   ]
  },
  {
   "cell_type": "code",
   "execution_count": 5,
   "id": "28d7f7fc",
   "metadata": {},
   "outputs": [],
   "source": [
    "expressao2 = (x + 1)**7"
   ]
  },
  {
   "cell_type": "code",
   "execution_count": 6,
   "id": "629f5052",
   "metadata": {},
   "outputs": [
    {
     "data": {
      "image/png": "[encoded data removed]",
      "text/latex": [
       "$\\displaystyle x^{7} + 7 x^{6} + 21 x^{5} + 35 x^{4} + 35 x^{3} + 21 x^{2} + 7 x + 1$"
      ],
      "text/plain": [
       " 7      6       5       4       3       2          \n",
       "x  + 7⋅x  + 21⋅x  + 35⋅x  + 35⋅x  + 21⋅x  + 7⋅x + 1"
      ]
     },
     "execution_count": 6,
     "metadata": {},
     "output_type": "execute_result"
    }
   ],
   "source": [
    "resultado2 = sympy.expand(expressao2)\n",
    "resultado2"
   ]
  },
  {
   "cell_type": "code",
   "execution_count": 15,
   "id": "8de0c807",
   "metadata": {},
   "outputs": [
    {
     "data": {
      "image/png": "[encoded data removed]",
      "text/latex": [
       "$\\displaystyle x^{2} + 2 x y + y^{2}$"
      ],
      "text/plain": [
       " 2            2\n",
       "x  + 2⋅x⋅y + y "
      ]
     },
     "execution_count": 15,
     "metadata": {},
     "output_type": "execute_result"
    }
   ],
   "source": [
    "a = (x + y)**2\n",
    "sympy.expand(a)"
   ]
  },
  {
   "cell_type": "markdown",
   "id": "dc77a264",
   "metadata": {},
   "source": [
    "## Fatorar expressões"
   ]
  },
  {
   "cell_type": "code",
   "execution_count": 7,
   "id": "ebb8fcb2",
   "metadata": {},
   "outputs": [],
   "source": [
    "expressao3 = x**5 + 10*x**4 + 35*x**3 + 50*x**2 + 24*x"
   ]
  },
  {
   "cell_type": "code",
   "execution_count": 8,
   "id": "69edd780",
   "metadata": {},
   "outputs": [
    {
     "data": {
      "image/png": "[encoded data removed]",
      "text/latex": [
       "$\\displaystyle x \\left(x + 1\\right) \\left(x + 2\\right) \\left(x + 3\\right) \\left(x + 4\\right)$"
      ],
      "text/plain": [
       "x⋅(x + 1)⋅(x + 2)⋅(x + 3)⋅(x + 4)"
      ]
     },
     "execution_count": 8,
     "metadata": {},
     "output_type": "execute_result"
    }
   ],
   "source": [
    "resultado3 = sympy.factor(expressao3)\n",
    "resultado3"
   ]
  },
  {
   "cell_type": "code",
   "execution_count": null,
   "id": "abc634ad",
   "metadata": {},
   "outputs": [],
   "source": []
  }
 ],
 "metadata": {
  "kernelspec": {
   "display_name": "Python 3 (ipykernel)",
   "language": "python",
   "name": "python3"
  },
  "language_info": {
   "codemirror_mode": {
    "name": "ipython",
    "version": 3
   },
   "file_extension": ".py",
   "mimetype": "text/x-python",
   "name": "python",
   "nbconvert_exporter": "python",
   "pygments_lexer": "ipython3",
   "version": "3.9.12"
  }
 },
 "nbformat": 4,
 "nbformat_minor": 5
}
