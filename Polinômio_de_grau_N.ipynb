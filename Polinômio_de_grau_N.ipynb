{
  "nbformat": 4,
  "nbformat_minor": 0,
  "metadata": {
    "colab": {
      "name": "Polinômio de grau N.ipynb",
      "provenance": [],
      "collapsed_sections": [],
      "authorship_tag": "ABX9TyNjluFvRcjdec5ik/7NJhXr",
      "include_colab_link": true
    },
    "kernelspec": {
      "name": "python3",
      "display_name": "Python 3"
    },
    "language_info": {
      "name": "python"
    }
  },
  "cells": [
    {
      "cell_type": "markdown",
      "metadata": {
        "id": "view-in-github",
        "colab_type": "text"
      },
      "source": [
        "<a href=\"https://colab.research.google.com/github/andrejuniorba/Matematica_codigos/blob/main/Polin%C3%B4mio_de_grau_N.ipynb\" target=\"_parent\"><img src=\"https://colab.research.google.com/assets/colab-badge.svg\" alt=\"Open In Colab\"/></a>"
      ]
    },
    {
      "cell_type": "markdown",
      "source": [
        "# **Calculadora de polinômio de grau N**\n",
        "\n",
        "### Entre com os valores dos coeficientes e determine as raízes da equação."
      ],
      "metadata": {
        "id": "lbBeWCG42mkX"
      }
    },
    {
      "cell_type": "code",
      "source": [
        "#Lista de números positivos candidatos a serem raiz do polinômio\n",
        "candidatos_positivos = []\n",
        "for i in range(0,100,1):\n",
        "  candidatos_positivos.append(i)\n",
        "\n",
        "#Lista de números negativos candidatos a serem raiz do polinômio\n",
        "candidatos_negativos = []\n",
        "for i in range(0,-100,-1):\n",
        "  candidatos_negativos.append(i)\n",
        "\n",
        "#Função que verifica a raiz do polinômio\n",
        "def verifica_raiz (lista_coeficientes, x):\n",
        "  a = len(lista_coeficientes)\n",
        "  exp = a - 1\n",
        "  res = 0\n",
        "  for c in lista_coeficientes:\n",
        "    res = res + c * x**exp \n",
        "    exp = exp -1\n",
        "  return res"
      ],
      "metadata": {
        "id": "XZTiinwDcyW-"
      },
      "execution_count": 61,
      "outputs": []
    },
    {
      "cell_type": "code",
      "execution_count": 62,
      "metadata": {
        "colab": {
          "base_uri": "https://localhost:8080/"
        },
        "id": "tFlI943BY2Uy",
        "outputId": "ad09edd4-3df6-4f7c-935b-bca647ce3fec"
      },
      "outputs": [
        {
          "output_type": "stream",
          "name": "stdout",
          "text": [
            "Digite o grau do polinômio: 2\n",
            "Coeficiente x^2: 1\n",
            "Coeficiente x^1: 0\n",
            "Coeficiente x^0: -49\n",
            "\n",
            "\n",
            "Polinômio de grau 2\n",
            "\n",
            "\n",
            "As raízes do polinômio são: [7, -7]\n"
          ]
        }
      ],
      "source": [
        "#Solicita ao usuário o grau do polinômio\n",
        "n = int(input('Digite o grau do polinômio: '))\n",
        "m = n\n",
        "#Solicita os coeficientes e adiciona em uma lista\n",
        "lista_coeficientes = []\n",
        "for i in range(0,n+1):\n",
        "  lista_coeficientes.append(float(input(f'Coeficiente x^{m}: ')))\n",
        "  m = m-1\n",
        "\n",
        "#Identifica o grau do polinômio\n",
        "print('\\n')\n",
        "print(f'Polinômio de grau {n}')\n",
        "print('\\n')\n",
        "\n",
        "#Verifica os candidatos e guarda o resultado em uma lista\n",
        "raiz = []\n",
        "for x in candidatos_positivos:\n",
        "  if verifica_raiz(lista_coeficientes,x)== 0:\n",
        "    raiz.append(x)\n",
        "\n",
        "for x in candidatos_negativos:\n",
        "  if verifica_raiz(lista_coeficientes,x) == 0:\n",
        "    raiz.append(x)\n",
        "\n",
        "#Exibe as raízes\n",
        "print(f'As raízes do polinômio são: {raiz}')\n"
      ]
    },
    {
      "cell_type": "code",
      "source": [
        ""
      ],
      "metadata": {
        "id": "DPCKrzgHgw7f"
      },
      "execution_count": 34,
      "outputs": []
    }
  ]
}