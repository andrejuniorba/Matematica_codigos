{
  "nbformat": 4,
  "nbformat_minor": 0,
  "metadata": {
    "colab": {
      "name": "Polinômio de grau N.ipynb",
      "provenance": [],
      "authorship_tag": "ABX9TyPbz8ISGHNPWxPXD7/ovc5r",
      "include_colab_link": true
    },
    "kernelspec": {
      "name": "python3",
      "display_name": "Python 3"
    },
    "language_info": {
      "name": "python"
    }
  },
  "cells": [
    {
      "cell_type": "markdown",
      "metadata": {
        "id": "view-in-github",
        "colab_type": "text"
      },
      "source": [
        "<a href=\"https://colab.research.google.com/github/andrejuniorba/Matematica_codigos/blob/main/Polin%C3%B4mio_de_grau_N.ipynb\" target=\"_parent\"><img src=\"https://colab.research.google.com/assets/colab-badge.svg\" alt=\"Open In Colab\"/></a>"
      ]
    },
    {
      "cell_type": "code",
      "source": [
        "candidatos_positivos = []\n",
        "for i in range(0,100,1):\n",
        "  candidatos_positivos.append(i)\n",
        "\n",
        "candidatos_negativos = []\n",
        "for i in range(-1,-100,-1):\n",
        "  candidatos_negativos.append(i)\n",
        "\n",
        "\n",
        "def verifica_raiz (coeficientes, x):\n",
        "  a = len(lista_coeficientes)\n",
        "  exp = a - 1\n",
        "  res = 0\n",
        "  for c in lista_coeficientes:\n",
        "    res = res + c * x**exp \n",
        "    exp = exp -1\n",
        "  return res"
      ],
      "metadata": {
        "id": "XZTiinwDcyW-"
      },
      "execution_count": 35,
      "outputs": []
    },
    {
      "cell_type": "code",
      "execution_count": 46,
      "metadata": {
        "colab": {
          "base_uri": "https://localhost:8080/"
        },
        "id": "tFlI943BY2Uy",
        "outputId": "8d5a72c3-a892-4f7d-e63e-39db42fc4005"
      },
      "outputs": [
        {
          "output_type": "stream",
          "name": "stdout",
          "text": [
            "Digite o grau do polinômio: 5\n",
            "Coeficiente 1: 1\n",
            "Coeficiente 2: 0\n",
            "Coeficiente 3: 0\n",
            "Coeficiente 4: -8\n",
            "Coeficiente 5: 0\n",
            "Coeficiente 6: 0\n",
            "\n",
            "\n",
            "Polinômio de grau 5\n",
            "\n",
            "\n",
            "As raízes do polinômio são: [0, 2]\n"
          ]
        }
      ],
      "source": [
        "n = int(input('Digite o grau do polinômio: '))\n",
        "\n",
        "lista_coeficientes = []\n",
        "\n",
        "for i in range(0,n+1):\n",
        "  lista_coeficientes.append(float(input(f'Coeficiente {i+1}: ')))\n",
        "\n",
        "print('\\n')\n",
        "print(f'Polinômio de grau {n}')\n",
        "print('\\n')\n",
        "\n",
        "raiz = []\n",
        "for x in candidatos_positivos:\n",
        "  if verifica_raiz(coeficientes,x)== 0:\n",
        "    raiz.append(x)\n",
        "\n",
        "for x in candidatos_negativos:\n",
        "  if verifica_raiz(coeficientes,x) == 0:\n",
        "    raiz.append(x)\n",
        "\n",
        "print(f'As raízes do polinômio são: {raiz}')\n"
      ]
    },
    {
      "cell_type": "code",
      "source": [
        ""
      ],
      "metadata": {
        "id": "DPCKrzgHgw7f"
      },
      "execution_count": 34,
      "outputs": []
    }
  ]
}