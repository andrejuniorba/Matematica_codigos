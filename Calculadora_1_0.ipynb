{
  "nbformat": 4,
  "nbformat_minor": 0,
  "metadata": {
    "colab": {
      "name": "Calculadora 1.0.ipynb",
      "provenance": [],
      "authorship_tag": "ABX9TyPSTrcdWfih0DEdJIh0B4ez",
      "include_colab_link": true
    },
    "kernelspec": {
      "name": "python3",
      "display_name": "Python 3"
    },
    "language_info": {
      "name": "python"
    }
  },
  "cells": [
    {
      "cell_type": "markdown",
      "metadata": {
        "id": "view-in-github",
        "colab_type": "text"
      },
      "source": [
        "<a href=\"https://colab.research.google.com/github/andrejuniorba/Matematica_codigos/blob/main/Calculadora_1_0.ipynb\" target=\"_parent\"><img src=\"https://colab.research.google.com/assets/colab-badge.svg\" alt=\"Open In Colab\"/></a>"
      ]
    },
    {
      "cell_type": "code",
      "execution_count": 2,
      "metadata": {
        "colab": {
          "base_uri": "https://localhost:8080/"
        },
        "id": "Oje4KQBPINBS",
        "outputId": "a05875f0-89ea-4226-f751-33ae8dfdc0bc"
      },
      "outputs": [
        {
          "name": "stdout",
          "output_type": "stream",
          "text": [
            "***********Calculadora Python************\n",
            "\n",
            "1 - Soma\n",
            "2 - Subtração\n",
            "3 - Multiplicação\n",
            "4 - Divisão\n",
            "\n",
            "Escolha uma opção (1/2/3/4): 4\n",
            "Digite o primeiro número: 26\n",
            "Digite o segundo número: 3\n",
            "A divisão entre 26 e 3 é igual a 8.666666666666666\n",
            "\n",
            "Deseja continuar? (s/n): s\n",
            "Escolha uma opção (1/2/3/4): 3\n",
            "Digite o primeiro número: 12\n",
            "Digite o segundo número: 5\n",
            "A multiplicação entre 12 e 5 é igual a 60\n",
            "\n",
            "Deseja continuar? (s/n): n\n"
          ]
        }
      ],
      "source": [
        "#Calculadora em Python\n",
        "\"\"\"\"\n",
        "Posso usar funções para as 4 operações:\n",
        "\n",
        "def soma (x , y):\n",
        "    return x + y\n",
        "    \n",
        "print(num1 , '+' , num2, '=', soma(num1 , num2))\n",
        "\n",
        "\"\"\"\"\"\n",
        "\n",
        "print(\"***********Calculadora Python************\")\n",
        "print()\n",
        "\n",
        "print(\"1 - Soma\")\n",
        "print(\"2 - Subtração\")\n",
        "print(\"3 - Multiplicação\")\n",
        "print(\"4 - Divisão\")\n",
        "\n",
        "print()\n",
        "\n",
        "resp = \"s\"\n",
        "\n",
        "while resp == \"s\" or resp == \"S\":\n",
        "\n",
        "    opcao = int(input(\"Escolha uma opção (1/2/3/4): \"))\n",
        "\n",
        "    if not((opcao == 1) or (opcao == 2) or (opcao == 3) or (opcao == 4)):\n",
        "        print(\"Opção inválida\")\n",
        "    else:\n",
        "\n",
        "\n",
        "        num1 = int(input(\"Digite o primeiro número: \"))\n",
        "        num2 = int(input(\"Digite o segundo número: \"))\n",
        "\n",
        "        #VERIFICAÇÕES\n",
        "\n",
        "        if (opcao == 1):\n",
        "            soma = num1 + num2\n",
        "            print(f\"A soma entre {num1} e {num2} é igual a\",soma)\n",
        "\n",
        "        elif (opcao == 2):\n",
        "            sub = num1 - num2\n",
        "            print(f\"A subtração entre {num1} e {num2} é igual a\", sub)\n",
        "\n",
        "        elif (opcao == 3):\n",
        "            mult = num1 * num2\n",
        "            print(f\"A multiplicação entre {num1} e {num2} é igual a\", mult)\n",
        "\n",
        "        elif (opcao == 4):\n",
        "            divisao = num1 / num2\n",
        "            print(f\"A divisão entre {num1} e {num2} é igual a\", divisao)\n",
        "\n",
        " #       else:\n",
        " #           print(\"Opção inválida\")\n",
        "\n",
        "    print()\n",
        "\n",
        "    resp = (input(\"Deseja continuar? (s/n): \"))"
      ]
    }
  ]
}