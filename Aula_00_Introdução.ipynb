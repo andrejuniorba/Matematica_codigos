{
  "nbformat": 4,
  "nbformat_minor": 0,
  "metadata": {
    "colab": {
      "provenance": [],
      "authorship_tag": "ABX9TyNnB7qQobaYfmU8FEYL8klS",
      "include_colab_link": true
    },
    "kernelspec": {
      "name": "python3",
      "display_name": "Python 3"
    },
    "language_info": {
      "name": "python"
    }
  },
  "cells": [
    {
      "cell_type": "markdown",
      "metadata": {
        "id": "view-in-github",
        "colab_type": "text"
      },
      "source": [
        "<a href=\"https://colab.research.google.com/github/andrejuniorba/Matematica_codigos/blob/main/Aula_00_Introdu%C3%A7%C3%A3o.ipynb\" target=\"_parent\"><img src=\"https://colab.research.google.com/assets/colab-badge.svg\" alt=\"Open In Colab\"/></a>"
      ]
    },
    {
      "cell_type": "markdown",
      "source": [
        "# **Aula 0 - Introdução a linguagem Python**\n",
        "\n",
        "## **Turma 9º ano**\n",
        "\n",
        "***Prof. André Luz***"
      ],
      "metadata": {
        "id": "xeDEgb3CJuiF"
      }
    },
    {
      "cell_type": "markdown",
      "source": [
        "**1. Faça um programa em linguagem Python que converta metros para centímetros.**"
      ],
      "metadata": {
        "id": "CY1dJ8uv9Aus"
      }
    },
    {
      "cell_type": "code",
      "execution_count": null,
      "metadata": {
        "id": "pAolU3ld8_Zc",
        "colab": {
          "base_uri": "https://localhost:8080/"
        },
        "outputId": "cffcc6c2-a34d-4e33-f2d9-d7272ce147ee"
      },
      "outputs": [
        {
          "output_type": "stream",
          "name": "stdout",
          "text": [
            "\t ----Conversão de medida---- \n",
            "Informe o valor em metros: 125\n",
            "O valor em centimetros é : 12500\n"
          ]
        }
      ],
      "source": [
        "print('\\t ----Conversão de medida---- ')\n",
        "metros = int(input('Informe o valor em metros: '))\n",
        "print ('O valor em centimetros é :', metros * 100)"
      ]
    },
    {
      "cell_type": "markdown",
      "source": [
        "**2. Faça um algoritmo em linguagem Python que receba duas notas e calcule a média aritmética e mostre o resultado.**"
      ],
      "metadata": {
        "id": "sPaBLLVS-Qte"
      }
    },
    {
      "cell_type": "code",
      "source": [
        "print('\\t ----Cálculo da média aritmética---- ')\n",
        "\n",
        "nota1 = float(input('Informe a primeira nota: '))\n",
        "nota2 = float(input('Informe a segunda nota: '))\n",
        "\n",
        "media = (nota1+ nota2)/2\n",
        "\n",
        "print(f'A média é {round(media,1)}')"
      ],
      "metadata": {
        "id": "EXnHFrXs9s8Z",
        "colab": {
          "base_uri": "https://localhost:8080/"
        },
        "outputId": "3c48e9a0-365e-4d0b-bb3b-bd833263aa57"
      },
      "execution_count": null,
      "outputs": [
        {
          "output_type": "stream",
          "name": "stdout",
          "text": [
            "\t ----Cálculo da média aritmética---- \n",
            "Informe a primeira nota: 8\n",
            "Informe a segunda nota: 7\n",
            "A média é 7.5\n"
          ]
        }
      ]
    },
    {
      "cell_type": "markdown",
      "source": [
        "**3. Faça um programa em Python que leia um valor inteiro e mostre a tabuada de 1 a 10 do valor lido.**"
      ],
      "metadata": {
        "id": "ZySEUkyh9QSl"
      }
    },
    {
      "cell_type": "code",
      "source": [
        "print('\\t ----Tabuada---- ')\n",
        "numero = int(input('Informe o numero para ver a tabuada: '))\n",
        "\n",
        "print('\\n Tabuada de', numero, ':')\n",
        "\n",
        "for i in range(0, 11):\n",
        "    print(numero, 'X', i, '=', (numero * i))"
      ],
      "metadata": {
        "id": "cbt2VFZv9HDd",
        "colab": {
          "base_uri": "https://localhost:8080/"
        },
        "outputId": "6f91bce5-f8de-4a02-a594-a1bb2e92db8a"
      },
      "execution_count": null,
      "outputs": [
        {
          "output_type": "stream",
          "name": "stdout",
          "text": [
            "\t ----Tabuada---- \n",
            "Informe o numero para ver a tabuada: 47\n",
            "\n",
            " Tabuada de 47 :\n",
            "47 X 0 = 0\n",
            "47 X 1 = 47\n",
            "47 X 2 = 94\n",
            "47 X 3 = 141\n",
            "47 X 4 = 188\n",
            "47 X 5 = 235\n",
            "47 X 6 = 282\n",
            "47 X 7 = 329\n",
            "47 X 8 = 376\n",
            "47 X 9 = 423\n",
            "47 X 10 = 470\n"
          ]
        }
      ]
    },
    {
      "cell_type": "markdown",
      "source": [
        "**4. Faça um programa que recebendo um valor inteiro, informe se o número é positivo, negativo ou neutro.**"
      ],
      "metadata": {
        "id": "7FHI-m8fBzWS"
      }
    },
    {
      "cell_type": "code",
      "source": [
        "print('\\t ---- Classificação dos números---- ')\n",
        "x = int(input(\"Informe um número para verificar: \"))\n",
        "if x < 0:\n",
        "        print('É um número negativo ')\n",
        "elif x == 0:\n",
        "        print('É um número neutro')\n",
        "elif x > 0:\n",
        "        print('É um número positivo')"
      ],
      "metadata": {
        "id": "I9OJWj1hB3Ne",
        "colab": {
          "base_uri": "https://localhost:8080/"
        },
        "outputId": "efc663e4-0109-4a23-af3a-81a630b56c70"
      },
      "execution_count": null,
      "outputs": [
        {
          "output_type": "stream",
          "name": "stdout",
          "text": [
            "\t ---- Classificação dos números---- \n",
            "Informe um número para verificar: -5\n",
            "É um número negativo \n"
          ]
        }
      ]
    },
    {
      "cell_type": "markdown",
      "source": [
        "**5. Faça um programa que recebendo um valor inteiro, informe se o número é par ou ímpar.**"
      ],
      "metadata": {
        "id": "rsby1hiyC8Lg"
      }
    },
    {
      "cell_type": "code",
      "source": [
        "print(\"\\t ----PAR ou ÍMPAR----\")\n",
        "a = int(input (\"Digite um número: \"))\n",
        "\n",
        "resto_a = a % 2\n",
        "\n",
        "if resto_a == 0:\n",
        "    print(\"O número é par\")\n",
        "else:\n",
        "    print(\"O número é ímpar\")"
      ],
      "metadata": {
        "id": "Ty3SX3m6C8zT",
        "colab": {
          "base_uri": "https://localhost:8080/"
        },
        "outputId": "3d6ff86f-cc10-4c98-fe15-3e91acc50965"
      },
      "execution_count": null,
      "outputs": [
        {
          "output_type": "stream",
          "name": "stdout",
          "text": [
            "\t ----PAR ou ÍMPAR----\n",
            "Digite um número: 17\n",
            "O número é ímpar\n"
          ]
        }
      ]
    },
    {
      "cell_type": "markdown",
      "source": [
        "**6. Fazer um algoritmo que ao receber o salário atual de um funcionário, calcule o valor do novo salário reajustado de acordo com a tabela abaixo:**\n",
        "\n",
        "![image.png](data:image/png;base64,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)"
      ],
      "metadata": {
        "id": "Jd2x62C_ACEe"
      }
    },
    {
      "cell_type": "code",
      "source": [
        "print('\\t ----Cálculo do novo salário ---- ')\n",
        "salario_atual = float(input('Informe o salario atual: '))\n",
        "\n",
        "if (salario_atual<1000):\n",
        "    salario_novo=salario_atual+(salario_atual*0.15)\n",
        "elif ((salario_atual>=1000) and (salario_atual <=1500)):\n",
        "    salario_novo=salario_atual+(salario_atual*0.10)\n",
        "else:\n",
        "    salario_novo=salario_atual+(salario_atual*0.05)\n",
        "    \n",
        "print('Salario com reajuste' '=', salario_novo)"
      ],
      "metadata": {
        "id": "d6azB9O--ZQw",
        "colab": {
          "base_uri": "https://localhost:8080/"
        },
        "outputId": "6276f222-545c-4128-a52c-c9fb08f7c563"
      },
      "execution_count": null,
      "outputs": [
        {
          "output_type": "stream",
          "name": "stdout",
          "text": [
            "\t ----Cálculo do novo salário ---- \n",
            "Informe o salario atual: 1499\n",
            "Salario com reajuste= 1648.9\n"
          ]
        }
      ]
    },
    {
      "cell_type": "markdown",
      "source": [
        "**7. Escreva um programa para ler as coordenadas (X,Y) e informe em qual quadrante estão localizados.**"
      ],
      "metadata": {
        "id": "MOMvZzw7FOR0"
      }
    },
    {
      "cell_type": "code",
      "source": [
        "x = int(input('Digite a coordenada X: '))\n",
        "y = int(input('Digite a coordenada Y: '))\n",
        "\n",
        "if (x==0 or y==0):\n",
        "  print('As coordenadas não estão posicionadas em nenhum quadrante.')\n",
        "elif (x>0 and y>0):\n",
        "  print('As coordenadas estão no primeiro quadrante.')\n",
        "elif (x<0 and y>0):\n",
        "  print('As coordenadas estão no segundo quadrante.')\n",
        "elif (x<0 and y<0):\n",
        "  print('As coordenadas estão no terceiro quadrante.')\n",
        "else:\n",
        "  print('As coordenadas estão no quarto quadrante.')"
      ],
      "metadata": {
        "colab": {
          "base_uri": "https://localhost:8080/"
        },
        "id": "qbHkMqMPBK4L",
        "outputId": "421ee21f-37dc-46dc-85ea-7a6588f6c008"
      },
      "execution_count": null,
      "outputs": [
        {
          "output_type": "stream",
          "name": "stdout",
          "text": [
            "Digite a coordenada X: 5\n",
            "Digite a coordenada Y: 0\n",
            "As coordenadas não estão posicionadas em nenhum quadrante.\n"
          ]
        }
      ]
    }
  ]
}