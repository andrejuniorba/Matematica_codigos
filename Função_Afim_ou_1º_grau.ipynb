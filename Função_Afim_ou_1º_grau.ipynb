{
  "nbformat": 4,
  "nbformat_minor": 0,
  "metadata": {
    "colab": {
      "provenance": [],
      "authorship_tag": "ABX9TyOrcZ89Vnie9eb3inXQw7EP",
      "include_colab_link": true
    },
    "kernelspec": {
      "name": "python3",
      "display_name": "Python 3"
    },
    "language_info": {
      "name": "python"
    }
  },
  "cells": [
    {
      "cell_type": "markdown",
      "metadata": {
        "id": "view-in-github",
        "colab_type": "text"
      },
      "source": [
        "<a href=\"https://colab.research.google.com/github/andrejuniorba/Matematica_codigos/blob/main/Fun%C3%A7%C3%A3o_Afim_ou_1%C2%BA_grau.ipynb\" target=\"_parent\"><img src=\"https://colab.research.google.com/assets/colab-badge.svg\" alt=\"Open In Colab\"/></a>"
      ]
    },
    {
      "cell_type": "markdown",
      "source": [
        "# **FUNÇÃO AFIM (1º GRAU)**\n",
        "\n",
        "## **f(x) = ax + b**"
      ],
      "metadata": {
        "id": "TkcvgKl0mXEx"
      }
    },
    {
      "cell_type": "code",
      "execution_count": 4,
      "metadata": {
        "id": "AgK30OfphZBJ"
      },
      "outputs": [],
      "source": [
        "from sympy import *\n",
        "from sympy.plotting import *\n",
        "#matplotlib inline\n",
        "\n",
        "x = Symbol('x')"
      ]
    },
    {
      "cell_type": "code",
      "source": [
        "def funcao_afim(a,b):\n",
        "  y = a*x + b\n",
        "  r = -b/a\n",
        "\n",
        "  if a < 0:\n",
        "    print('É uma função decrescente.')\n",
        "  else:\n",
        "    print('É uma função crescente.')\n",
        "\n",
        "   \n",
        "  print(f'A raíz da função f(x) = {a}x + {b} é {r:.1f}')\n",
        "\n",
        "  plot(y, xlim=[-5,5], ylim=[-5,5], title = 'Função Afim', xlabel = 'X', ylabel = 'Y')\n"
      ],
      "metadata": {
        "id": "rjHjoL1tAkuF"
      },
      "execution_count": 7,
      "outputs": []
    },
    {
      "cell_type": "code",
      "source": [
        "a = float(input('Coeficiente a = '))\n",
        "  \n",
        "if a == 0:\n",
        "  print('Não é Função AFIM.')\n",
        "else:  \n",
        "  b = float(input('Coeficiente b = '))\n",
        "\n",
        "  funcao_afim(a,b)"
      ],
      "metadata": {
        "colab": {
          "base_uri": "https://localhost:8080/",
          "height": 366
        },
        "id": "9ZLCwmOZzTLd",
        "outputId": "fec9c826-b79e-405c-c0d2-511a9f440f97"
      },
      "execution_count": 10,
      "outputs": [
        {
          "output_type": "stream",
          "name": "stdout",
          "text": [
            "Coeficiente a = 5\n",
            "Coeficiente b = 8\n",
            "É uma função crescente.\n",
            "A raíz da função f(x) = 5.0x + 8.0 é -1.6\n"
          ]
        },
        {
          "output_type": "display_data",
          "data": {
            "text/plain": [
              "<Figure size 432x288 with 1 Axes>"
            ],
            "image/png": "[encoded data removed]"
          },
          "metadata": {
            "needs_background": "light"
          }
        }
      ]
    }
  ]
}