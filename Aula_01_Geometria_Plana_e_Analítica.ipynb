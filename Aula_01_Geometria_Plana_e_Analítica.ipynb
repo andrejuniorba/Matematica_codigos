{
  "nbformat": 4,
  "nbformat_minor": 0,
  "metadata": {
    "colab": {
      "provenance": [],
      "authorship_tag": "ABX9TyNo/Chtp0j54ShqwLqtu3FM",
      "include_colab_link": true
    },
    "kernelspec": {
      "name": "python3",
      "display_name": "Python 3"
    },
    "language_info": {
      "name": "python"
    }
  },
  "cells": [
    {
      "cell_type": "markdown",
      "metadata": {
        "id": "view-in-github",
        "colab_type": "text"
      },
      "source": [
        "<a href=\"https://colab.research.google.com/github/andrejuniorba/Matematica_codigos/blob/main/Aula_01_Geometria_Plana_e_Anal%C3%ADtica.ipynb\" target=\"_parent\"><img src=\"https://colab.research.google.com/assets/colab-badge.svg\" alt=\"Open In Colab\"/></a>"
      ]
    },
    {
      "cell_type": "markdown",
      "source": [
        "# **Aula 1 - Geometria plana e analítica com Python**\n",
        "\n",
        "## **Turma 9º ano**\n",
        "\n",
        "***Prof. André Luz***"
      ],
      "metadata": {
        "id": "HY5kViUk54wl"
      }
    },
    {
      "cell_type": "markdown",
      "source": [
        "**1. Faça um script em linguagem Python que receba um valor de comprimento e um de largura. A partir daí verifique se é quadrado ou retângulo e apresente o valor de sua área e perimetro, com uma casa decimal.**"
      ],
      "metadata": {
        "id": "bhEvWe9jmi7m"
      }
    },
    {
      "cell_type": "code",
      "execution_count": null,
      "metadata": {
        "colab": {
          "base_uri": "https://localhost:8080/"
        },
        "id": "ZLbj26Fo4Vv-",
        "outputId": "9ef01f14-25ae-4279-b639-516845700f5d"
      },
      "outputs": [
        {
          "output_type": "stream",
          "name": "stdout",
          "text": [
            "Digite o valor do comprimento: 8\n",
            "Digite o valor da largura: 6\n",
            "É um retângulo.\n",
            "Sua área é 48.0 e o seu perímetro é 28.0\n"
          ]
        }
      ],
      "source": [
        "comp = float(input('Digite o valor do comprimento: '))\n",
        "larg = float(input('Digite o valor da largura: '))\n",
        "\n",
        "if (comp == larg):\n",
        "  area = comp*larg\n",
        "  perimetro = 2*comp + 2*larg\n",
        "  print('É um quadrado.')\n",
        "  print(f'Sua área é {round(area,1)} e o seu perímetro é {round(perimetro,1)}')\n",
        "else:\n",
        "  area = comp*larg\n",
        "  perimetro = 2*comp + 2*larg\n",
        "  print('É um retângulo.')\n",
        "  print(f'Sua área é {round(area,1)} e o seu perímetro é {round(perimetro,1)}')"
      ]
    },
    {
      "cell_type": "markdown",
      "source": [
        "**2. Faça um script em Python que receba o valor do raio de uma circunferência e apresente seu diâmetro, sua área e seu comprimento, com duas casas decimais. (use pi = 3.14)**"
      ],
      "metadata": {
        "id": "dMooJ6ak6Dvv"
      }
    },
    {
      "cell_type": "code",
      "source": [
        "raio = float(input('Digite o valor do raio: '))\n",
        "\n",
        "pi = 3.14\n",
        "\n",
        "D = 2*raio\n",
        "C = 2*pi*raio\n",
        "A = pi*(raio)**2\n",
        "\n",
        "print(f'Diâmetro = {D}')\n",
        "print(f'Comprimento = {C}')\n",
        "print(f'Área = {A}')"
      ],
      "metadata": {
        "colab": {
          "base_uri": "https://localhost:8080/"
        },
        "id": "eVOG8Qo94hHK",
        "outputId": "070c0350-acf3-462a-cc30-684989af534a"
      },
      "execution_count": null,
      "outputs": [
        {
          "output_type": "stream",
          "name": "stdout",
          "text": [
            "Digite o valor do raio: 3\n",
            "Diâmetro = 6.0\n",
            "Comprimento = 18.84\n",
            "Área = 28.26\n"
          ]
        }
      ]
    },
    {
      "cell_type": "markdown",
      "source": [
        "**3. Faça um script em linguagem Python que receba o valor da base maior e menor de um trapézio e sua altura. A partir daí apresente o valor de sua área, com uma casa decimal.**"
      ],
      "metadata": {
        "id": "-dEhU6VLKn8q"
      }
    },
    {
      "cell_type": "code",
      "source": [
        "bM = float(input('Digite o valor da base maior: '))\n",
        "bm = float(input('Digite o valor da base menor: '))\n",
        "alt = float(input('Digite o valor da altura: '))\n",
        "\n",
        "At = ((bM +bm)*alt)/2\n",
        "\n",
        "print(f'A área do trapézio é {round(At,1)}')"
      ],
      "metadata": {
        "colab": {
          "base_uri": "https://localhost:8080/"
        },
        "id": "yyb6vyqZLf2X",
        "outputId": "b6c48c3d-26b2-4035-8d6d-802259736dda"
      },
      "execution_count": 41,
      "outputs": [
        {
          "output_type": "stream",
          "name": "stdout",
          "text": [
            "Digite o valor da base maior: 8\n",
            "Digite o valor da base menor: 7\n",
            "Digite o valor da altura: 2\n",
            "A área do trapézio é 15.0\n"
          ]
        }
      ]
    },
    {
      "cell_type": "markdown",
      "source": [
        "**4. Faça um script em Python que receba o valor dos três lados de um triângulo e apresente o resultado quando não for triângulo. Quando for, apresente a sua classificação como Equilátero, Isósceles ou Escaleno.**\n"
      ],
      "metadata": {
        "id": "0zrYe3GQ5tqJ"
      }
    },
    {
      "cell_type": "code",
      "source": [
        "l1 = float(input('Digite o valor do lado 1: '))\n",
        "l2 = float(input('Digite o valor do lado 2: '))\n",
        "l3 = float(input('Digite o valor do lado 3: '))\n",
        "\n",
        "s1 = l1+l2\n",
        "s2 = l1+l3\n",
        "s3 = l2+l3\n",
        "\n",
        "if ((s1 <= l3) or (s2 <= l2) or (s3 <= l1)):\n",
        "  print('Não é triângulo.')\n",
        "elif ((l1 == l2) and (l1 == l3)):\n",
        "  print('É um triângulo Equilátero')\n",
        "elif ((l1 == l2) or (l1 == l3) or (l2 == l3)):\n",
        "  print('É um triângulo Isósceles')\n",
        "else:\n",
        "  print('É um triângulo Escaleno')\n",
        "\n"
      ],
      "metadata": {
        "colab": {
          "base_uri": "https://localhost:8080/"
        },
        "id": "VCnSgO075RYX",
        "outputId": "0a73a91d-2e41-4da5-a92a-6a59a44c1503"
      },
      "execution_count": null,
      "outputs": [
        {
          "output_type": "stream",
          "name": "stdout",
          "text": [
            "Digite o valor do lado 1: 3.5\n",
            "Digite o valor do lado 2: 4\n",
            "Digite o valor do lado 3: 3\n",
            "É um triângulo Escaleno\n"
          ]
        }
      ]
    },
    {
      "cell_type": "markdown",
      "source": [
        "**5. Faça um script em Python que receba o valor dos catetos de um triângulo retângulo e apresente o resultado da hipotenusa, com uma casa decimal.**\n"
      ],
      "metadata": {
        "id": "8p6m7Dx-EXVw"
      }
    },
    {
      "cell_type": "code",
      "source": [
        "c1 = float(input('Digite o valor do primeiro cateto: '))\n",
        "c2 = float(input('Digite o valor do segundo cateto: '))\n",
        "\n",
        "h = ((c1)**2 + (c2)**2)**(1/2)\n",
        "\n",
        "print(f'Hipotenusa é igual a {round(h,1)}')"
      ],
      "metadata": {
        "colab": {
          "base_uri": "https://localhost:8080/"
        },
        "id": "12wqmzelCHez",
        "outputId": "01a5f555-952f-4a31-d552-0d4a2cdd3f6e"
      },
      "execution_count": null,
      "outputs": [
        {
          "output_type": "stream",
          "name": "stdout",
          "text": [
            "Digite o valor do primeiro cateto: 8\n",
            "Digite o valor do segundo cateto: 6\n",
            "Hipotenusa é igual a 10.0\n"
          ]
        }
      ]
    },
    {
      "cell_type": "markdown",
      "source": [
        "**6. Faça um script em Python que receba as coordenadas de dois pontos do plano cartesiano e apresente o resultado da distância entre esses pontos da maneira abaixo.**\n",
        "\n",
        "\"A distância entre as coordenadas (x1,y1) e (x2,y2) é ____.\" (com uma casa decimal)"
      ],
      "metadata": {
        "id": "_sriLUSD5KEJ"
      }
    },
    {
      "cell_type": "code",
      "source": [
        "x1 = float(input('X1: '))\n",
        "y1 = float(input('Y1: '))\n",
        "x2 = float(input('X2: '))\n",
        "y2 = float(input('Y2: '))\n",
        "\n",
        "dist = ((x2-x1)**2 + (y2-y1)**2)**(1/2)\n",
        "\n",
        "print(f'A distância entre as coordenadas ({x1},{y1}) e ({x2},{y2}) é {round(dist,2)}.')"
      ],
      "metadata": {
        "id": "sSVrPnXbDeo4",
        "colab": {
          "base_uri": "https://localhost:8080/"
        },
        "outputId": "94775bf4-506b-41e3-fe45-3c85702031f3"
      },
      "execution_count": null,
      "outputs": [
        {
          "output_type": "stream",
          "name": "stdout",
          "text": [
            "X1: 2\n",
            "Y1: 0\n",
            "X2: 5\n",
            "Y2: 3\n",
            "A distância entre as coordenadas (2.0,0.0) e (5.0,3.0) é 4.24.\n"
          ]
        }
      ]
    },
    {
      "cell_type": "markdown",
      "source": [
        "**7. Faça um script em Python que receba as coordenadas de dois pontos do plano cartesiano e apresente o resultado do ponto médio entre esses pontos da maneira abaixo.**\n",
        "\n",
        "\"O ponto médio entre as coordenadas (x1,y1) e (x2,y2) é ____.\" (com uma casa decimal)"
      ],
      "metadata": {
        "id": "9ILBL_BDBtQW"
      }
    },
    {
      "cell_type": "code",
      "source": [
        "X1 = float(input('X1: '))\n",
        "Y1 = float(input('Y1: '))\n",
        "X2 = float(input('X2: '))\n",
        "Y2 = float(input('Y2: '))\n",
        "\n",
        "mx = (X1 +X2)/2\n",
        "my = (Y1+Y2)/2\n",
        "\n",
        "print(f'O ponto médio entre as coordenadas ({X1},{Y1}) e ({X2},{Y2}) é ({round(mx,1)},{round(my,1)}).')"
      ],
      "metadata": {
        "colab": {
          "base_uri": "https://localhost:8080/"
        },
        "id": "_qeBsHHQCj6i",
        "outputId": "45bbf710-eb18-4d51-857b-0d1c15621e28"
      },
      "execution_count": null,
      "outputs": [
        {
          "output_type": "stream",
          "name": "stdout",
          "text": [
            "X1: -0.8\n",
            "Y1: -0.2\n",
            "X2: -1.4\n",
            "Y2: 3.6\n",
            "O ponto médio entre as coordenadas (-0.8,-0.2) e (-1.4,3.6) é (-1.1,1.7).\n"
          ]
        }
      ]
    }
  ]
}