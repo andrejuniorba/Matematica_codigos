{
 "cells": [
  {
   "cell_type": "markdown",
   "id": "75fb3f45",
   "metadata": {},
   "source": [
    "## Fatoração"
   ]
  },
  {
   "cell_type": "code",
   "execution_count": 26,
   "id": "e50c8f24",
   "metadata": {},
   "outputs": [
    {
     "name": "stdout",
     "output_type": "stream",
     "text": [
      "Digite o número que deseja fatorar: 100\n"
     ]
    }
   ],
   "source": [
    "numero = int(input('Digite o número que deseja fatorar: '))\n",
    "\n",
    "divisor = 2"
   ]
  },
  {
   "cell_type": "code",
   "execution_count": 27,
   "id": "651d2feb",
   "metadata": {},
   "outputs": [],
   "source": [
    "fatores = []\n",
    "while numero != 1:\n",
    "    if numero%divisor == 0:\n",
    "        fatores.append(divisor)\n",
    "        numero = numero // divisor\n",
    "    else:\n",
    "        divisor += 1"
   ]
  },
  {
   "cell_type": "code",
   "execution_count": 31,
   "id": "0d87bbc1",
   "metadata": {},
   "outputs": [
    {
     "name": "stdout",
     "output_type": "stream",
     "text": [
      "A fatoração é o produto entre os primos [2, 2, 5, 5]\n"
     ]
    }
   ],
   "source": [
    "print(f'A fatoração é o produto entre os primos {fatores}')"
   ]
  },
  {
   "cell_type": "markdown",
   "id": "6f4a49d3",
   "metadata": {},
   "source": [
    "## Máximo Divisor Comum (Algoritmo de Euclides)"
   ]
  },
  {
   "cell_type": "code",
   "execution_count": 20,
   "id": "48a2e353",
   "metadata": {},
   "outputs": [
    {
     "name": "stdout",
     "output_type": "stream",
     "text": [
      "Digite o primeiro número: 400\n",
      "Digite o segundo número: 250\n"
     ]
    }
   ],
   "source": [
    "#O primeiro número deve ser o maior.\n",
    "num1 = int(input('Digite o primeiro número: '))\n",
    "num2 = int(input('Digite o segundo número: '))"
   ]
  },
  {
   "cell_type": "code",
   "execution_count": 21,
   "id": "976f8b9a",
   "metadata": {},
   "outputs": [],
   "source": [
    "while num1%num2 != 0:\n",
    "    num1,num2 = num2,num1%num2"
   ]
  },
  {
   "cell_type": "code",
   "execution_count": 24,
   "id": "63eed993",
   "metadata": {},
   "outputs": [
    {
     "name": "stdout",
     "output_type": "stream",
     "text": [
      "MDC = 50\n"
     ]
    }
   ],
   "source": [
    "print(f'MDC = {num2}')"
   ]
  },
  {
   "cell_type": "code",
   "execution_count": null,
   "id": "36785101",
   "metadata": {},
   "outputs": [],
   "source": []
  }
 ],
 "metadata": {
  "kernelspec": {
   "display_name": "Python 3 (ipykernel)",
   "language": "python",
   "name": "python3"
  },
  "language_info": {
   "codemirror_mode": {
    "name": "ipython",
    "version": 3
   },
   "file_extension": ".py",
   "mimetype": "text/x-python",
   "name": "python",
   "nbconvert_exporter": "python",
   "pygments_lexer": "ipython3",
   "version": "3.9.12"
  }
 },
 "nbformat": 4,
 "nbformat_minor": 5
}
