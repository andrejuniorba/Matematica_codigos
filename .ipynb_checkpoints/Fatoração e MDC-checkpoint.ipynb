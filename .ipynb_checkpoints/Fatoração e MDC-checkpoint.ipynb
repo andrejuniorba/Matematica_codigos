{
 "cells": [
  {
   "cell_type": "markdown",
   "id": "75fb3f45",
   "metadata": {},
   "source": [
    "## Fatoração"
   ]
  },
  {
   "cell_type": "code",
   "execution_count": 8,
   "id": "e50c8f24",
   "metadata": {},
   "outputs": [
    {
     "name": "stdout",
     "output_type": "stream",
     "text": [
      "Digite o número que deseja fatorar: 100\n"
     ]
    }
   ],
   "source": [
    "numero = int(input('Digite o número que deseja fatorar: '))\n",
    "\n",
    "divisor = 2"
   ]
  },
  {
   "cell_type": "code",
   "execution_count": 9,
   "id": "651d2feb",
   "metadata": {},
   "outputs": [],
   "source": [
    "fatores = []\n",
    "while numero != 1:\n",
    "    if numero%divisor == 0:\n",
    "        fatores.append(divisor)\n",
    "        numero = numero // divisor\n",
    "    else:\n",
    "        divisor += 1"
   ]
  },
  {
   "cell_type": "code",
   "execution_count": 10,
   "id": "0d87bbc1",
   "metadata": {},
   "outputs": [
    {
     "data": {
      "text/plain": [
       "[2, 2, 5, 5]"
      ]
     },
     "execution_count": 10,
     "metadata": {},
     "output_type": "execute_result"
    }
   ],
   "source": [
    "fatores"
   ]
  },
  {
   "cell_type": "markdown",
   "id": "6f4a49d3",
   "metadata": {},
   "source": [
    "## Máximo Divisor Comum (Algoritmo de Euclides)"
   ]
  },
  {
   "cell_type": "code",
   "execution_count": 15,
   "id": "48a2e353",
   "metadata": {},
   "outputs": [
    {
     "name": "stdout",
     "output_type": "stream",
     "text": [
      "Digite o primeiro número: 255\n",
      "255\n"
     ]
    }
   ],
   "source": [
    "#O primeiro número deve ser o maior.\n",
    "num1 = int(input('Digite o primeiro número: '))\n",
    "print(num1)"
   ]
  },
  {
   "cell_type": "code",
   "execution_count": 16,
   "id": "7c61fd42",
   "metadata": {},
   "outputs": [
    {
     "name": "stdout",
     "output_type": "stream",
     "text": [
      "Digite o segundo número: 221\n",
      "221\n"
     ]
    }
   ],
   "source": [
    "num2 = int(input('Digite o segundo número: '))\n",
    "print(num2)"
   ]
  },
  {
   "cell_type": "code",
   "execution_count": 27,
   "id": "929c57d9",
   "metadata": {},
   "outputs": [
    {
     "ename": "ZeroDivisionError",
     "evalue": "integer division or modulo by zero",
     "output_type": "error",
     "traceback": [
      "\u001b[0;31m---------------------------------------------------------------------------\u001b[0m",
      "\u001b[0;31mZeroDivisionError\u001b[0m                         Traceback (most recent call last)",
      "Input \u001b[0;32mIn [27]\u001b[0m, in \u001b[0;36m<cell line: 1>\u001b[0;34m()\u001b[0m\n\u001b[0;32m----> 1\u001b[0m resto \u001b[38;5;241m=\u001b[39m \u001b[43mnum1\u001b[49m\u001b[43m \u001b[49m\u001b[38;5;241;43m%\u001b[39;49m\u001b[43m \u001b[49m\u001b[43mnum2\u001b[49m\n",
      "\u001b[0;31mZeroDivisionError\u001b[0m: integer division or modulo by zero"
     ]
    }
   ],
   "source": [
    "resto = num1 % num2"
   ]
  },
  {
   "cell_type": "code",
   "execution_count": 25,
   "id": "976f8b9a",
   "metadata": {},
   "outputs": [
    {
     "ename": "NameError",
     "evalue": "name 'resto' is not defined",
     "output_type": "error",
     "traceback": [
      "\u001b[0;31m---------------------------------------------------------------------------\u001b[0m",
      "\u001b[0;31mNameError\u001b[0m                                 Traceback (most recent call last)",
      "Input \u001b[0;32mIn [25]\u001b[0m, in \u001b[0;36m<cell line: 1>\u001b[0;34m()\u001b[0m\n\u001b[0;32m----> 1\u001b[0m \u001b[38;5;28;01mwhile\u001b[39;00m \u001b[43mresto\u001b[49m \u001b[38;5;241m!=\u001b[39m \u001b[38;5;241m0\u001b[39m:\n\u001b[1;32m      2\u001b[0m     num1 \u001b[38;5;241m=\u001b[39m num2\n\u001b[1;32m      3\u001b[0m     resto \u001b[38;5;241m=\u001b[39m num1\u001b[38;5;241m%\u001b[39mnum2\n",
      "\u001b[0;31mNameError\u001b[0m: name 'resto' is not defined"
     ]
    }
   ],
   "source": [
    "while resto != 0:\n",
    "    num1 = num2\n",
    "    resto = num1%num2"
   ]
  },
  {
   "cell_type": "code",
   "execution_count": 26,
   "id": "63eed993",
   "metadata": {},
   "outputs": [
    {
     "data": {
      "text/plain": [
       "0"
      ]
     },
     "execution_count": 26,
     "metadata": {},
     "output_type": "execute_result"
    }
   ],
   "source": [
    "num2"
   ]
  },
  {
   "cell_type": "code",
   "execution_count": null,
   "id": "43b242df",
   "metadata": {},
   "outputs": [],
   "source": []
  }
 ],
 "metadata": {
  "kernelspec": {
   "display_name": "Python 3 (ipykernel)",
   "language": "python",
   "name": "python3"
  },
  "language_info": {
   "codemirror_mode": {
    "name": "ipython",
    "version": 3
   },
   "file_extension": ".py",
   "mimetype": "text/x-python",
   "name": "python",
   "nbconvert_exporter": "python",
   "pygments_lexer": "ipython3",
   "version": "3.9.12"
  }
 },
 "nbformat": 4,
 "nbformat_minor": 5
}
